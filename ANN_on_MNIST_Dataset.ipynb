{
  "nbformat": 4,
  "nbformat_minor": 0,
  "metadata": {
    "colab": {
      "name": "ANN on MNIST Dataset.ipynb",
      "version": "0.3.2",
      "provenance": [],
      "collapsed_sections": []
    },
    "kernelspec": {
      "name": "python3",
      "display_name": "Python 3"
    }
  },
  "cells": [
    {
      "cell_type": "code",
      "metadata": {
        "id": "oe8wbcKRnC5_",
        "colab_type": "code",
        "colab": {}
      },
      "source": [
        "# Import Packages for Machine Learning\n",
        "import tensorflow as tf\n",
        "mnist = tf.keras.datasets.mnist"
      ],
      "execution_count": 0,
      "outputs": []
    },
    {
      "cell_type": "code",
      "metadata": {
        "id": "4XrrL0Rtni9q",
        "colab_type": "code",
        "colab": {}
      },
      "source": [
        "# Load the MNIST Dataset\n",
        "(X_train, y_train),(X_test, y_test) = mnist.load_data()\n",
        "X_train, X_test = X_train / 255.0, X_test / 255.0"
      ],
      "execution_count": 0,
      "outputs": []
    },
    {
      "cell_type": "code",
      "metadata": {
        "id": "_ckbf4yipGZS",
        "colab_type": "code",
        "colab": {}
      },
      "source": [
        "# Define your model\n",
        "model = tf.keras.models.Sequential([\n",
        "    tf.keras.layers.Flatten(),\n",
        "    tf.keras.layers.Dense(512, activation=tf.nn.relu),\n",
        "    tf.keras.layers.Dropout(0.2),\n",
        "    tf.keras.layers.Dense(10, activation=tf.nn.softmax)\n",
        "])"
      ],
      "execution_count": 0,
      "outputs": []
    },
    {
      "cell_type": "code",
      "metadata": {
        "id": "qtsm5QtMquFL",
        "colab_type": "code",
        "colab": {}
      },
      "source": [
        "# Specify Optimizer, Loss and Metrics\n",
        "model.compile(optimizer='adam',loss='sparse_categorical_crossentropy',metrics=['accuracy'])\n"
      ],
      "execution_count": 0,
      "outputs": []
    },
    {
      "cell_type": "code",
      "metadata": {
        "id": "7qeydqvOtqc-",
        "colab_type": "code",
        "outputId": "f62465c8-eaca-4274-cbbb-7e70c0e42ab3",
        "colab": {
          "base_uri": "https://localhost:8080/",
          "height": 204
        }
      },
      "source": [
        "# Train the model\n",
        "model.fit(X_train, y_train, epochs=5)"
      ],
      "execution_count": 0,
      "outputs": [
        {
          "output_type": "stream",
          "text": [
            "Epoch 1/5\n",
            "60000/60000 [==============================] - 10s 160us/sample - loss: 0.2187 - acc: 0.9353\n",
            "Epoch 2/5\n",
            "60000/60000 [==============================] - 9s 148us/sample - loss: 0.0949 - acc: 0.9716\n",
            "Epoch 3/5\n",
            "60000/60000 [==============================] - 9s 148us/sample - loss: 0.0681 - acc: 0.9787\n",
            "Epoch 4/5\n",
            "60000/60000 [==============================] - 9s 152us/sample - loss: 0.0554 - acc: 0.9821\n",
            "Epoch 5/5\n",
            "60000/60000 [==============================] - 9s 151us/sample - loss: 0.0420 - acc: 0.9865\n"
          ],
          "name": "stdout"
        },
        {
          "output_type": "execute_result",
          "data": {
            "text/plain": [
              "<tensorflow.python.keras.callbacks.History at 0x7f443e1115c0>"
            ]
          },
          "metadata": {
            "tags": []
          },
          "execution_count": 36
        }
      ]
    },
    {
      "cell_type": "code",
      "metadata": {
        "id": "Ie8DSPWMuZNU",
        "colab_type": "code",
        "outputId": "7a0e80cf-a48e-4c70-8b93-2d0d82767c79",
        "colab": {
          "base_uri": "https://localhost:8080/",
          "height": 34
        }
      },
      "source": [
        "# Evaluate the model on test data\n",
        "loss, accuracy = model.evaluate(X_test, y_test)"
      ],
      "execution_count": 0,
      "outputs": [
        {
          "output_type": "stream",
          "text": [
            "10000/10000 [==============================] - 1s 68us/sample - loss: 0.0760 - acc: 0.9768\n"
          ],
          "name": "stdout"
        }
      ]
    },
    {
      "cell_type": "code",
      "metadata": {
        "id": "YMtrujZIvCqn",
        "colab_type": "code",
        "outputId": "f2eba76c-c43d-4144-9c57-b94ec575a13e",
        "colab": {
          "base_uri": "https://localhost:8080/",
          "height": 34
        }
      },
      "source": [
        "print(\"loss: {} accuracy: {}\".format(loss, accuracy))"
      ],
      "execution_count": 0,
      "outputs": [
        {
          "output_type": "stream",
          "text": [
            "loss: 0.07596994302038802 accuracy: 0.9768000245094299\n"
          ],
          "name": "stdout"
        }
      ]
    }
  ]
}